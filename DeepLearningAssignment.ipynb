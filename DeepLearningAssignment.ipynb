{
  "nbformat": 4,
  "nbformat_minor": 0,
  "metadata": {
    "colab": {
      "provenance": [],
      "authorship_tag": "ABX9TyMLodj2ebGSV+y33gCXVNr7",
      "include_colab_link": true
    },
    "kernelspec": {
      "name": "python3",
      "display_name": "Python 3"
    },
    "language_info": {
      "name": "python"
    }
  },
  "cells": [
    {
      "cell_type": "markdown",
      "metadata": {
        "id": "view-in-github",
        "colab_type": "text"
      },
      "source": [
        "<a href=\"https://colab.research.google.com/github/NedumCares/IgboPOS/blob/main/DeepLearningAssignment.ipynb\" target=\"_parent\"><img src=\"https://colab.research.google.com/assets/colab-badge.svg\" alt=\"Open In Colab\"/></a>"
      ]
    },
    {
      "cell_type": "code",
      "execution_count": 1,
      "metadata": {
        "id": "YsGZgeDz1dp4"
      },
      "outputs": [],
      "source": [
        "import numpy as np\n",
        "import matplotlib.pyplot as plt"
      ]
    },
    {
      "cell_type": "code",
      "source": [
        "X = np.random.randn(2,100)"
      ],
      "metadata": {
        "id": "evyNBOB843Zd"
      },
      "execution_count": 6,
      "outputs": []
    },
    {
      "cell_type": "code",
      "source": [
        "X"
      ],
      "metadata": {
        "colab": {
          "base_uri": "https://localhost:8080/"
        },
        "id": "6vACWJoHAYpv",
        "outputId": "5b258efd-3fce-4513-8682-14a6362a685c"
      },
      "execution_count": 7,
      "outputs": [
        {
          "output_type": "execute_result",
          "data": {
            "text/plain": [
              "array([[ 1.51683219e-01, -2.66011813e+00, -7.53081657e-01,\n",
              "        -9.32802401e-01, -1.29692801e+00,  2.99803007e-01,\n",
              "         1.37730983e+00, -3.48271273e-01, -3.71696504e-01,\n",
              "        -5.17596372e-01,  1.61275127e+00,  2.03867467e-01,\n",
              "         6.29705503e-01,  5.62715927e-01,  1.12995902e+00,\n",
              "         3.44222418e-01, -1.76132896e-01, -5.86152144e-01,\n",
              "         2.28346953e-01,  1.03443411e+00, -2.29610797e-01,\n",
              "         2.35174314e+00, -4.74854255e-01,  1.14837616e+00,\n",
              "        -2.37637982e-01, -6.12543455e-01, -5.22591268e-01,\n",
              "         2.74823925e-02, -3.17628078e-01,  1.36956298e+00,\n",
              "        -1.10736958e-01,  1.65492931e+00, -1.76541851e+00,\n",
              "         4.22817032e-01, -2.59432871e-01, -8.12357833e-01,\n",
              "        -1.23251687e+00, -9.13579120e-01,  1.10779291e+00,\n",
              "        -6.25015409e-01, -1.63784814e-01,  2.46370972e+00,\n",
              "        -6.68734985e-01, -9.98078299e-01, -3.80007694e-01,\n",
              "        -4.12945196e-01,  2.01561422e+00,  1.54645049e-02,\n",
              "         1.76772665e-02, -1.53849024e+00,  5.14318930e-02,\n",
              "        -5.22694595e-01, -5.69985369e-01,  1.42193590e+00,\n",
              "         1.26679452e+00, -7.68074607e-01, -1.18559026e+00,\n",
              "         1.09607661e+00,  4.60292406e-01,  2.89148715e-01,\n",
              "         1.50634073e+00, -2.21027180e+00, -3.25763524e-01,\n",
              "         2.34335493e-01,  1.67413633e+00, -7.67727800e-01,\n",
              "         1.38330681e+00,  1.01993689e+00, -4.87682312e-01,\n",
              "         1.63210347e+00,  6.09464402e-01, -1.53687554e+00,\n",
              "        -3.56722005e-02,  8.88375460e-01,  5.61071589e-01,\n",
              "        -1.28248324e+00, -5.10159384e-02, -7.10999907e-01,\n",
              "         8.93377407e-01, -8.12350603e-01,  2.76846029e-01,\n",
              "         1.39740823e+00, -6.18700616e-01, -2.46798124e-01,\n",
              "        -3.81916271e-01,  1.06336887e+00, -5.18848459e-01,\n",
              "        -1.50126699e+00,  3.73540869e-01,  1.11343949e+00,\n",
              "         2.85345191e-01, -1.08721547e+00, -1.05610967e+00,\n",
              "         1.37091651e+00,  2.17800079e+00,  4.85339671e-01,\n",
              "        -2.08443322e+00, -3.48563241e-01, -8.51831225e-01,\n",
              "        -9.63248705e-01],\n",
              "       [ 2.60791642e-01, -5.95935491e-01, -3.62588118e-01,\n",
              "         1.38785380e-01,  6.31987601e-02,  9.63798020e-01,\n",
              "        -1.21614720e+00, -6.12771203e-01, -1.31815767e+00,\n",
              "        -9.85271623e-01, -3.51666726e-01, -1.09411903e+00,\n",
              "        -5.40099904e-01,  7.97521888e-01,  2.63944652e-01,\n",
              "         1.07621788e+00,  1.29998742e+00,  2.07992507e-02,\n",
              "        -6.91882340e-01,  5.08302634e-01,  6.86026414e-01,\n",
              "         2.88952876e-02,  9.43994464e-01,  1.92447077e+00,\n",
              "         2.75251247e-01, -1.01177856e+00, -6.52270453e-01,\n",
              "         2.48612378e-02,  4.64939305e-01, -1.25954651e+00,\n",
              "         8.95476867e-01,  1.25027687e+00, -7.46614032e-02,\n",
              "        -1.42208803e+00,  1.40601545e+00, -4.56248248e-04,\n",
              "         7.28656367e-01,  1.02644508e+00,  7.17320384e-01,\n",
              "         6.03540758e-01,  1.22973427e+00,  1.56345171e+00,\n",
              "        -3.54850005e-01, -1.40734843e+00, -6.69449409e-01,\n",
              "        -1.34451572e+00,  4.59733585e-01,  4.17042552e-01,\n",
              "        -2.71174436e-01, -1.24583718e-02,  5.25931469e-01,\n",
              "         1.82025515e+00,  1.85452522e-01,  4.40212734e-01,\n",
              "         1.81860810e+00,  2.70121926e-01,  1.48599871e-01,\n",
              "        -1.14198774e+00, -1.03490982e-01,  2.61340340e-01,\n",
              "         1.89473457e+00,  1.73249327e+00,  1.07969226e+00,\n",
              "        -7.43149422e-02, -1.02063611e+00, -2.89700787e+00,\n",
              "         7.90781476e-02, -1.67253301e+00, -1.39552800e+00,\n",
              "        -9.15205336e-02,  1.13463635e-02, -1.02392030e+00,\n",
              "         6.16984697e-01, -1.11926036e+00, -1.10339230e+00,\n",
              "        -2.64731227e+00,  1.37907937e+00,  2.58595995e-01,\n",
              "        -1.70591523e+00, -4.67322443e-01,  2.25312144e+00,\n",
              "        -1.40372209e-02,  1.72176385e+00, -3.02163966e+00,\n",
              "         8.99755323e-01, -3.11716082e-02,  5.02280053e-01,\n",
              "         1.88631368e+00, -5.22472466e-01, -8.89356608e-01,\n",
              "        -1.20257600e-01, -4.35298769e-01,  3.37201788e-01,\n",
              "         4.18143063e-02,  1.51903105e+00, -8.74761883e-01,\n",
              "         1.63684832e+00,  4.79182166e-01,  2.93186098e+00,\n",
              "         5.81051596e-01]])"
            ]
          },
          "metadata": {},
          "execution_count": 7
        }
      ]
    },
    {
      "cell_type": "code",
      "source": [
        "plt.plot(X[0,:], X[1,:], '.')"
      ],
      "metadata": {
        "colab": {
          "base_uri": "https://localhost:8080/",
          "height": 447
        },
        "id": "e0F_4Vq08mfH",
        "outputId": "77a391e3-57f5-41d7-af5e-864ee55cfcbc"
      },
      "execution_count": 11,
      "outputs": [
        {
          "output_type": "execute_result",
          "data": {
            "text/plain": [
              "[<matplotlib.lines.Line2D at 0x7ac09bc4c7f0>]"
            ]
          },
          "metadata": {},
          "execution_count": 11
        },
        {
          "output_type": "display_data",
          "data": {
            "text/plain": [
              "<Figure size 640x480 with 1 Axes>"
            ],
            "image/png": "[encoded data removed]"
          },
          "metadata": {}
        }
      ]
    },
    {
      "cell_type": "code",
      "source": [
        "A = np.array([[0.5, 0], [0,1]])"
      ],
      "metadata": {
        "id": "JRGEVoaoAfoj"
      },
      "execution_count": 13,
      "outputs": []
    },
    {
      "cell_type": "code",
      "source": [
        "B = A.dot(X)\n",
        "B"
      ],
      "metadata": {
        "colab": {
          "base_uri": "https://localhost:8080/"
        },
        "id": "zFgfwu_fCa9p",
        "outputId": "bd113e8b-c3c8-4557-b6e7-d372a9595be3"
      },
      "execution_count": 16,
      "outputs": [
        {
          "output_type": "execute_result",
          "data": {
            "text/plain": [
              "array([[ 7.58416094e-02, -1.33005907e+00, -3.76540828e-01,\n",
              "        -4.66401201e-01, -6.48464004e-01,  1.49901504e-01,\n",
              "         6.88654914e-01, -1.74135636e-01, -1.85848252e-01,\n",
              "        -2.58798186e-01,  8.06375634e-01,  1.01933733e-01,\n",
              "         3.14852752e-01,  2.81357964e-01,  5.64979510e-01,\n",
              "         1.72111209e-01, -8.80664478e-02, -2.93076072e-01,\n",
              "         1.14173476e-01,  5.17217055e-01, -1.14805399e-01,\n",
              "         1.17587157e+00, -2.37427127e-01,  5.74188078e-01,\n",
              "        -1.18818991e-01, -3.06271727e-01, -2.61295634e-01,\n",
              "         1.37411963e-02, -1.58814039e-01,  6.84781490e-01,\n",
              "        -5.53684788e-02,  8.27464653e-01, -8.82709255e-01,\n",
              "         2.11408516e-01, -1.29716436e-01, -4.06178917e-01,\n",
              "        -6.16258436e-01, -4.56789560e-01,  5.53896455e-01,\n",
              "        -3.12507704e-01, -8.18924069e-02,  1.23185486e+00,\n",
              "        -3.34367492e-01, -4.99039150e-01, -1.90003847e-01,\n",
              "        -2.06472598e-01,  1.00780711e+00,  7.73225247e-03,\n",
              "         8.83863323e-03, -7.69245122e-01,  2.57159465e-02,\n",
              "        -2.61347297e-01, -2.84992685e-01,  7.10967949e-01,\n",
              "         6.33397260e-01, -3.84037303e-01, -5.92795128e-01,\n",
              "         5.48038304e-01,  2.30146203e-01,  1.44574357e-01,\n",
              "         7.53170367e-01, -1.10513590e+00, -1.62881762e-01,\n",
              "         1.17167746e-01,  8.37068163e-01, -3.83863900e-01,\n",
              "         6.91653406e-01,  5.09968445e-01, -2.43841156e-01,\n",
              "         8.16051736e-01,  3.04732201e-01, -7.68437768e-01,\n",
              "        -1.78361002e-02,  4.44187730e-01,  2.80535794e-01,\n",
              "        -6.41241621e-01, -2.55079692e-02, -3.55499953e-01,\n",
              "         4.46688704e-01, -4.06175302e-01,  1.38423014e-01,\n",
              "         6.98704116e-01, -3.09350308e-01, -1.23399062e-01,\n",
              "        -1.90958136e-01,  5.31684433e-01, -2.59424230e-01,\n",
              "        -7.50633494e-01,  1.86770434e-01,  5.56719746e-01,\n",
              "         1.42672596e-01, -5.43607733e-01, -5.28054833e-01,\n",
              "         6.85458253e-01,  1.08900040e+00,  2.42669835e-01,\n",
              "        -1.04221661e+00, -1.74281620e-01, -4.25915612e-01,\n",
              "        -4.81624352e-01],\n",
              "       [ 2.60791642e-01, -5.95935491e-01, -3.62588118e-01,\n",
              "         1.38785380e-01,  6.31987601e-02,  9.63798020e-01,\n",
              "        -1.21614720e+00, -6.12771203e-01, -1.31815767e+00,\n",
              "        -9.85271623e-01, -3.51666726e-01, -1.09411903e+00,\n",
              "        -5.40099904e-01,  7.97521888e-01,  2.63944652e-01,\n",
              "         1.07621788e+00,  1.29998742e+00,  2.07992507e-02,\n",
              "        -6.91882340e-01,  5.08302634e-01,  6.86026414e-01,\n",
              "         2.88952876e-02,  9.43994464e-01,  1.92447077e+00,\n",
              "         2.75251247e-01, -1.01177856e+00, -6.52270453e-01,\n",
              "         2.48612378e-02,  4.64939305e-01, -1.25954651e+00,\n",
              "         8.95476867e-01,  1.25027687e+00, -7.46614032e-02,\n",
              "        -1.42208803e+00,  1.40601545e+00, -4.56248248e-04,\n",
              "         7.28656367e-01,  1.02644508e+00,  7.17320384e-01,\n",
              "         6.03540758e-01,  1.22973427e+00,  1.56345171e+00,\n",
              "        -3.54850005e-01, -1.40734843e+00, -6.69449409e-01,\n",
              "        -1.34451572e+00,  4.59733585e-01,  4.17042552e-01,\n",
              "        -2.71174436e-01, -1.24583718e-02,  5.25931469e-01,\n",
              "         1.82025515e+00,  1.85452522e-01,  4.40212734e-01,\n",
              "         1.81860810e+00,  2.70121926e-01,  1.48599871e-01,\n",
              "        -1.14198774e+00, -1.03490982e-01,  2.61340340e-01,\n",
              "         1.89473457e+00,  1.73249327e+00,  1.07969226e+00,\n",
              "        -7.43149422e-02, -1.02063611e+00, -2.89700787e+00,\n",
              "         7.90781476e-02, -1.67253301e+00, -1.39552800e+00,\n",
              "        -9.15205336e-02,  1.13463635e-02, -1.02392030e+00,\n",
              "         6.16984697e-01, -1.11926036e+00, -1.10339230e+00,\n",
              "        -2.64731227e+00,  1.37907937e+00,  2.58595995e-01,\n",
              "        -1.70591523e+00, -4.67322443e-01,  2.25312144e+00,\n",
              "        -1.40372209e-02,  1.72176385e+00, -3.02163966e+00,\n",
              "         8.99755323e-01, -3.11716082e-02,  5.02280053e-01,\n",
              "         1.88631368e+00, -5.22472466e-01, -8.89356608e-01,\n",
              "        -1.20257600e-01, -4.35298769e-01,  3.37201788e-01,\n",
              "         4.18143063e-02,  1.51903105e+00, -8.74761883e-01,\n",
              "         1.63684832e+00,  4.79182166e-01,  2.93186098e+00,\n",
              "         5.81051596e-01]])"
            ]
          },
          "metadata": {},
          "execution_count": 16
        }
      ]
    },
    {
      "cell_type": "code",
      "source": [
        "plt.plot(B[0,:], B[1,:], '.')"
      ],
      "metadata": {
        "colab": {
          "base_uri": "https://localhost:8080/",
          "height": 447
        },
        "id": "w7-_1-pDCzfV",
        "outputId": "a36394c7-cf36-4f78-dc7c-75d1cb300e51"
      },
      "execution_count": 17,
      "outputs": [
        {
          "output_type": "execute_result",
          "data": {
            "text/plain": [
              "[<matplotlib.lines.Line2D at 0x7ac09bce6c50>]"
            ]
          },
          "metadata": {},
          "execution_count": 17
        },
        {
          "output_type": "display_data",
          "data": {
            "text/plain": [
              "<Figure size 640x480 with 1 Axes>"
            ],
            "image/png": "[encoded data removed]"
          },
          "metadata": {}
        }
      ]
    },
    {
      "cell_type": "code",
      "source": [],
      "metadata": {
        "id": "3hbN_MCUvgXs"
      },
      "execution_count": null,
      "outputs": []
    }
  ]
}